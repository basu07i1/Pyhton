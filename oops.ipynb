{
  "nbformat": 4,
  "nbformat_minor": 0,
  "metadata": {
    "colab": {
      "provenance": [],
      "authorship_tag": "ABX9TyO3dSIwfFvu/oo5UJuAD5Db",
      "include_colab_link": true
    },
    "kernelspec": {
      "name": "python3",
      "display_name": "Python 3"
    },
    "language_info": {
      "name": "python"
    }
  },
  "cells": [
    {
      "cell_type": "markdown",
      "metadata": {
        "id": "view-in-github",
        "colab_type": "text"
      },
      "source": [
        "<a href=\"https://colab.research.google.com/github/basu07i1/Pyhton/blob/main/oops.ipynb\" target=\"_parent\"><img src=\"https://colab.research.google.com/assets/colab-badge.svg\" alt=\"Open In Colab\"/></a>"
      ]
    },
    {
      "cell_type": "markdown",
      "source": [
        "# Class"
      ],
      "metadata": {
        "id": "Biox3-Ap7fSD"
      }
    },
    {
      "cell_type": "code",
      "execution_count": null,
      "metadata": {
        "colab": {
          "base_uri": "https://localhost:8080/"
        },
        "id": "ES5dAp3QPu3W",
        "outputId": "27994b2a-9fa5-41d0-8979-b119d0297276"
      },
      "outputs": [
        {
          "output_type": "stream",
          "name": "stdout",
          "text": [
            "deepika up 90\n"
          ]
        }
      ],
      "source": [
        "class Data:\n",
        "    def __init__(self, name='deepika', state='up', marks=90):\n",
        "        self.name = name\n",
        "        self.state = state\n",
        "        self.marks = marks\n",
        "\n",
        "    def display(self):\n",
        "        print(self.name, self.state, self.marks)\n",
        "\n",
        "# Initialize an object\n",
        "obj = Data()\n",
        "obj.display()\n"
      ]
    },
    {
      "cell_type": "code",
      "source": [
        "class Dog:\n",
        "    species = \"Canine\"  # Class attribute\n",
        "\n",
        "    def __init__(self, name, age):\n",
        "        self.name = name  # Instance attribute\n",
        "        self.age = age  # Instance attribute\n",
        "\n",
        "# Creating an object of the Dog class\n",
        "dog1 = Dog(\"Buddy\", 3)\n",
        "dog2 = Dog(\"Max\", 5)\n",
        "\n",
        "print(dog1.name)\n",
        "print(dog1.species)\n",
        "print(dog2.name)\n",
        "print(dog2.species)"
      ],
      "metadata": {
        "colab": {
          "base_uri": "https://localhost:8080/"
        },
        "id": "clfI95GEchNg",
        "outputId": "106f7f83-877e-47ed-e4c8-212dd8d658f1"
      },
      "execution_count": null,
      "outputs": [
        {
          "output_type": "stream",
          "name": "stdout",
          "text": [
            "Buddy\n",
            "Canine\n",
            "Max\n",
            "Canine\n"
          ]
        }
      ]
    },
    {
      "cell_type": "code",
      "source": [
        "class data:\n",
        "  name = 'Deepika'\n",
        "  state = 'UP'\n",
        "  marks = 90\n",
        "\n",
        "  def display(self):\n",
        "    print(self.name , self.state , self.marks)\n",
        "\n",
        "obj = data()  #We are creating an object.\n",
        "print(obj.display())  #We are Calling the function.\n",
        "print(obj.marks) #Call the attribute."
      ],
      "metadata": {
        "colab": {
          "base_uri": "https://localhost:8080/"
        },
        "id": "KFLasAo7-dd9",
        "outputId": "83b876fb-ad8e-4b56-d9c8-2ac77569cf3c"
      },
      "execution_count": null,
      "outputs": [
        {
          "output_type": "stream",
          "name": "stdout",
          "text": [
            "Deepika UP 90\n",
            "None\n",
            "90\n"
          ]
        }
      ]
    },
    {
      "cell_type": "code",
      "source": [],
      "metadata": {
        "id": "1vBJKmcm-bXg"
      },
      "execution_count": null,
      "outputs": []
    },
    {
      "cell_type": "markdown",
      "source": [
        "#Constructors\n",
        "\n",
        "used to initialize the variable."
      ],
      "metadata": {
        "id": "pAsfEPLiEUAb"
      }
    },
    {
      "cell_type": "code",
      "source": [
        "class Data:   # Better to use PascalCase for class names\n",
        "    def __init__(self, name, state, marks):\n",
        "        self.name = name\n",
        "        self.state = state\n",
        "        self.marks = marks\n",
        "\n",
        "    def show(self):   # Now properly indented inside the class\n",
        "        print(self.name, self.state, self.marks)\n",
        "\n",
        "\n",
        "# Object created outside the class\n",
        "obj = Data('abc', 'UP', 98)\n",
        "obj.show()\n",
        "obj2 = Data('Sandeep' , 'Kolkata' , 99)\n",
        "obj2.show()"
      ],
      "metadata": {
        "id": "__Kb_lhBJAvQ",
        "colab": {
          "base_uri": "https://localhost:8080/"
        },
        "outputId": "7c340309-7228-4a92-e17f-2d5b6683cccf"
      },
      "execution_count": 18,
      "outputs": [
        {
          "output_type": "stream",
          "name": "stdout",
          "text": [
            "abc UP 98\n",
            "Sandeep Kolkata 99\n"
          ]
        }
      ]
    },
    {
      "cell_type": "markdown",
      "source": [
        "Example\n",
        "name , salary of Employee."
      ],
      "metadata": {
        "id": "6qv8xdrmPj7v"
      }
    },
    {
      "cell_type": "code",
      "source": [
        "class Employee:\n",
        "  def __init__(self, name , salary):\n",
        "    self.name = name\n",
        "    self.salary = salary\n",
        "\n",
        "  def show(self):\n",
        "    print(self.name , self.salary)\n",
        "\n",
        "e1 = Employee('Deepika' , 80000)\n",
        "e1.show()\n"
      ],
      "metadata": {
        "colab": {
          "base_uri": "https://localhost:8080/"
        },
        "id": "rfUj5knIP3Td",
        "outputId": "2d909454-0393-48e6-c0b5-c63001d4aa04"
      },
      "execution_count": 19,
      "outputs": [
        {
          "output_type": "stream",
          "name": "stdout",
          "text": [
            "Deepika 80000\n"
          ]
        }
      ]
    },
    {
      "cell_type": "markdown",
      "source": [
        "#1: Create a Student class that takes name and marks as input using a constructor. Add a method display() to print student details."
      ],
      "metadata": {
        "id": "lz7QRSB4R4xU"
      }
    },
    {
      "cell_type": "code",
      "source": [
        "class Student:\n",
        "    def __init__(self , name , marks):\n",
        "        self.name= name\n",
        "        self.marks = marks\n",
        "\n",
        "    def display(self):\n",
        "        print(self.name , self.marks)\n",
        "\n",
        "s1 = Student('nischal' , 98)\n",
        "s2 = Student('Prakhar' , 89)\n",
        "s1.display()\n",
        "s2.display()"
      ],
      "metadata": {
        "colab": {
          "base_uri": "https://localhost:8080/"
        },
        "id": "muO15KtiSBfp",
        "outputId": "8f349320-5c9f-4995-b14a-08b0942d9daa"
      },
      "execution_count": 24,
      "outputs": [
        {
          "output_type": "stream",
          "name": "stdout",
          "text": [
            "nischal 98\n",
            "Prakhar 89\n"
          ]
        }
      ]
    },
    {
      "cell_type": "markdown",
      "source": [
        "#2:Write a Car class with a constructor that initializes brand and model. Add a method info() to show car details. Use default values if nothing is passed."
      ],
      "metadata": {
        "id": "-tXB2tWqV6Zh"
      }
    },
    {
      "cell_type": "code",
      "source": [
        "class Car:\n",
        "  def __init__(self , brand , model):\n",
        "    self.brand = brand\n",
        "    self.model = model\n",
        "\n",
        "\n",
        "  def info(self):\n",
        "    print(self.brand , self.model)\n",
        "\n",
        "c1 = Car('maruti' , 'Alto')\n",
        "c2 = Car('Tata' , 'Curvv')\n",
        "\n",
        "c1.info()\n",
        "c2.info()\n"
      ],
      "metadata": {
        "colab": {
          "base_uri": "https://localhost:8080/"
        },
        "id": "sm9DT6kDV-G3",
        "outputId": "788e8b02-494a-4ab4-8c45-45b8b529908c"
      },
      "execution_count": 25,
      "outputs": [
        {
          "output_type": "stream",
          "name": "stdout",
          "text": [
            "maruti Alto\n",
            "Tata Curvv\n"
          ]
        }
      ]
    },
    {
      "cell_type": "markdown",
      "source": [
        "#3:Create a class Rectangle with constructor to initialize length and width. Write a method area() that calculates and prints the area."
      ],
      "metadata": {
        "id": "Eyuz3DxDW3lk"
      }
    },
    {
      "cell_type": "code",
      "source": [
        "class Rectangle:\n",
        "  def __init__(self , length , width):\n",
        "    self.length = length\n",
        "    self.width = width\n",
        "\n",
        "  def area(self):\n",
        "    print(self.length * self.width)\n",
        "\n",
        "r1 = Rectangle(9 , 10)\n",
        "r1.area()\n",
        ""
      ],
      "metadata": {
        "colab": {
          "base_uri": "https://localhost:8080/"
        },
        "id": "6hd-FhqJW6Ww",
        "outputId": "72cfa7cf-7c82-4db6-b3f4-3eaef0b9cd93"
      },
      "execution_count": 26,
      "outputs": [
        {
          "output_type": "stream",
          "name": "stdout",
          "text": [
            "90\n"
          ]
        }
      ]
    }
  ]
}